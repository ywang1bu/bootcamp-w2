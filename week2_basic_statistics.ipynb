{
 "cells": [
  {
   "cell_type": "code",
   "execution_count": 1,
   "id": "7f9fcf92",
   "metadata": {},
   "outputs": [
    {
     "data": {
      "text/plain": [
       "15"
      ]
     },
     "execution_count": 1,
     "metadata": {},
     "output_type": "execute_result"
    }
   ],
   "source": [
    "#calculating basic statistics with python\n",
    "#mean\n",
    "X = [1, 2, 3, 4, 5]\n",
    "1 + 2+ 3+4 +5"
   ]
  },
  {
   "cell_type": "code",
   "execution_count": null,
   "id": "4327ffa1",
   "metadata": {},
   "outputs": [
    {
     "data": {
      "text/plain": [
       "15"
      ]
     },
     "execution_count": 2,
     "metadata": {},
     "output_type": "execute_result"
    }
   ],
   "source": [
    "sum(X) #python built in function"
   ]
  },
  {
   "cell_type": "code",
   "execution_count": 3,
   "id": "06bb3f90",
   "metadata": {},
   "outputs": [
    {
     "data": {
      "text/plain": [
       "3.0"
      ]
     },
     "execution_count": 3,
     "metadata": {},
     "output_type": "execute_result"
    }
   ],
   "source": [
    "#Pythno built in length function\n",
    "sum(X)/len(X)"
   ]
  },
  {
   "cell_type": "code",
   "execution_count": 4,
   "id": "3a324b27",
   "metadata": {},
   "outputs": [
    {
     "data": {
      "text/plain": [
       "np.float64(3.0)"
      ]
     },
     "execution_count": 4,
     "metadata": {},
     "output_type": "execute_result"
    }
   ],
   "source": [
    "#Libraries give us pre-written code to solve common tasks.\n",
    "#pre-written\n",
    "#pre-tested\n",
    "#often faster\n",
    "\n",
    "import numpy as np\n",
    "X_np = np.array(X)\n",
    "X_np.mean()\n"
   ]
  },
  {
   "cell_type": "code",
   "execution_count": 5,
   "id": "71ce99cb",
   "metadata": {},
   "outputs": [
    {
     "data": {
      "text/plain": [
       "np.float64(3.0)"
      ]
     },
     "execution_count": 5,
     "metadata": {},
     "output_type": "execute_result"
    }
   ],
   "source": [
    "np.mean(X)"
   ]
  },
  {
   "cell_type": "code",
   "execution_count": 6,
   "id": "3e46f28d",
   "metadata": {},
   "outputs": [
    {
     "data": {
      "text/plain": [
       "np.float64(3.0)"
      ]
     },
     "execution_count": 6,
     "metadata": {},
     "output_type": "execute_result"
    }
   ],
   "source": [
    "#two versions of numpy \n",
    "X_np.mean()\n",
    "np.mean(X_np)"
   ]
  },
  {
   "cell_type": "code",
   "execution_count": 7,
   "id": "870eab1f",
   "metadata": {},
   "outputs": [
    {
     "data": {
      "text/plain": [
       "X    3.0\n",
       "dtype: float64"
      ]
     },
     "execution_count": 7,
     "metadata": {},
     "output_type": "execute_result"
    }
   ],
   "source": [
    "#Pandas is a library for data management and visualization\n",
    "#Will use pandas to load data in Module 1\n",
    "#More advanced pandas usage in Module\n",
    "\n",
    "\n",
    "import pandas as pd\n",
    "X_pd = pd.DataFrame(data ={\"X\":X})\n",
    "X_pd.mean()"
   ]
  },
  {
   "cell_type": "code",
   "execution_count": 8,
   "id": "850e43ef",
   "metadata": {},
   "outputs": [
    {
     "data": {
      "text/plain": [
       "np.float64(3.0)"
      ]
     },
     "execution_count": 8,
     "metadata": {},
     "output_type": "execute_result"
    }
   ],
   "source": [
    "np.mean(X_pd)"
   ]
  },
  {
   "cell_type": "code",
   "execution_count": 9,
   "id": "c091e8cc",
   "metadata": {},
   "outputs": [
    {
     "data": {
      "text/plain": [
       "np.float64(3.0)"
      ]
     },
     "execution_count": 9,
     "metadata": {},
     "output_type": "execute_result"
    }
   ],
   "source": [
    "#standard deviation\n",
    "np.mean(X)"
   ]
  },
  {
   "cell_type": "code",
   "execution_count": 10,
   "id": "6ddb33c0",
   "metadata": {},
   "outputs": [
    {
     "data": {
      "text/plain": [
       "[-2, -1, 0, 1, 2]"
      ]
     },
     "execution_count": 10,
     "metadata": {},
     "output_type": "execute_result"
    }
   ],
   "source": [
    "[x-3 for x in X]"
   ]
  },
  {
   "cell_type": "code",
   "execution_count": 11,
   "id": "482f5383",
   "metadata": {},
   "outputs": [
    {
     "data": {
      "text/plain": [
       "[4, 1, 0, 1, 4]"
      ]
     },
     "execution_count": 11,
     "metadata": {},
     "output_type": "execute_result"
    }
   ],
   "source": [
    "[(x-3)**2 for x in X]"
   ]
  },
  {
   "cell_type": "code",
   "execution_count": 12,
   "id": "8b8131ae",
   "metadata": {},
   "outputs": [
    {
     "data": {
      "text/plain": [
       "10"
      ]
     },
     "execution_count": 12,
     "metadata": {},
     "output_type": "execute_result"
    }
   ],
   "source": [
    "sum([(x-3)**2 for x in X])"
   ]
  },
  {
   "cell_type": "code",
   "execution_count": 17,
   "id": "e882071b",
   "metadata": {},
   "outputs": [],
   "source": [
    "sum([(x-3)**2 for x in X])/4\n",
    "import math"
   ]
  },
  {
   "cell_type": "code",
   "execution_count": 18,
   "id": "43e793db",
   "metadata": {},
   "outputs": [
    {
     "data": {
      "text/plain": [
       "1.5811388300841898"
      ]
     },
     "execution_count": 18,
     "metadata": {},
     "output_type": "execute_result"
    }
   ],
   "source": [
    "math.sqrt(sum([(x-3)**2 for x in X])/4)"
   ]
  },
  {
   "cell_type": "code",
   "execution_count": 19,
   "id": "ac0c8deb",
   "metadata": {},
   "outputs": [
    {
     "data": {
      "text/plain": [
       "np.float64(1.5811388300841898)"
      ]
     },
     "execution_count": 19,
     "metadata": {},
     "output_type": "execute_result"
    }
   ],
   "source": [
    "np.std(X, ddof=1)"
   ]
  },
  {
   "cell_type": "code",
   "execution_count": null,
   "id": "2ccb1e72",
   "metadata": {},
   "outputs": [
    {
     "data": {
      "text/plain": [
       "np.float64(1.5811388300841898)"
      ]
     },
     "execution_count": 20,
     "metadata": {},
     "output_type": "execute_result"
    }
   ],
   "source": [
    "np.std(X_np, ddof=1) #correction of downward bias"
   ]
  },
  {
   "cell_type": "code",
   "execution_count": 21,
   "id": "e294fa30",
   "metadata": {},
   "outputs": [
    {
     "data": {
      "text/plain": [
       "np.float64(1.4142135623730951)"
      ]
     },
     "execution_count": 21,
     "metadata": {},
     "output_type": "execute_result"
    }
   ],
   "source": [
    "np.std(X)"
   ]
  },
  {
   "cell_type": "code",
   "execution_count": 22,
   "id": "aee1ddfe",
   "metadata": {},
   "outputs": [
    {
     "data": {
      "text/plain": [
       "np.float64(1.5811388300841898)"
      ]
     },
     "execution_count": 22,
     "metadata": {},
     "output_type": "execute_result"
    }
   ],
   "source": [
    "X_np.std(ddof=1)"
   ]
  },
  {
   "cell_type": "code",
   "execution_count": 23,
   "id": "9adb5b5e",
   "metadata": {},
   "outputs": [
    {
     "data": {
      "text/plain": [
       "X    1.581139\n",
       "dtype: float64"
      ]
     },
     "execution_count": 23,
     "metadata": {},
     "output_type": "execute_result"
    }
   ],
   "source": [
    "X_pd.std(ddof=1)"
   ]
  },
  {
   "cell_type": "code",
   "execution_count": 24,
   "id": "b952bd0d",
   "metadata": {},
   "outputs": [
    {
     "data": {
      "text/html": [
       "<div>\n",
       "<style scoped>\n",
       "    .dataframe tbody tr th:only-of-type {\n",
       "        vertical-align: middle;\n",
       "    }\n",
       "\n",
       "    .dataframe tbody tr th {\n",
       "        vertical-align: top;\n",
       "    }\n",
       "\n",
       "    .dataframe thead th {\n",
       "        text-align: right;\n",
       "    }\n",
       "</style>\n",
       "<table border=\"1\" class=\"dataframe\">\n",
       "  <thead>\n",
       "    <tr style=\"text-align: right;\">\n",
       "      <th></th>\n",
       "      <th>X</th>\n",
       "    </tr>\n",
       "  </thead>\n",
       "  <tbody>\n",
       "    <tr>\n",
       "      <th>count</th>\n",
       "      <td>5.000000</td>\n",
       "    </tr>\n",
       "    <tr>\n",
       "      <th>mean</th>\n",
       "      <td>3.000000</td>\n",
       "    </tr>\n",
       "    <tr>\n",
       "      <th>std</th>\n",
       "      <td>1.581139</td>\n",
       "    </tr>\n",
       "    <tr>\n",
       "      <th>min</th>\n",
       "      <td>1.000000</td>\n",
       "    </tr>\n",
       "    <tr>\n",
       "      <th>25%</th>\n",
       "      <td>2.000000</td>\n",
       "    </tr>\n",
       "    <tr>\n",
       "      <th>50%</th>\n",
       "      <td>3.000000</td>\n",
       "    </tr>\n",
       "    <tr>\n",
       "      <th>75%</th>\n",
       "      <td>4.000000</td>\n",
       "    </tr>\n",
       "    <tr>\n",
       "      <th>max</th>\n",
       "      <td>5.000000</td>\n",
       "    </tr>\n",
       "  </tbody>\n",
       "</table>\n",
       "</div>"
      ],
      "text/plain": [
       "              X\n",
       "count  5.000000\n",
       "mean   3.000000\n",
       "std    1.581139\n",
       "min    1.000000\n",
       "25%    2.000000\n",
       "50%    3.000000\n",
       "75%    4.000000\n",
       "max    5.000000"
      ]
     },
     "execution_count": 24,
     "metadata": {},
     "output_type": "execute_result"
    }
   ],
   "source": [
    "X_pd.describe()"
   ]
  },
  {
   "cell_type": "code",
   "execution_count": null,
   "id": "030b731d",
   "metadata": {},
   "outputs": [],
   "source": []
  }
 ],
 "metadata": {
  "kernelspec": {
   "display_name": "Python 3",
   "language": "python",
   "name": "python3"
  },
  "language_info": {
   "codemirror_mode": {
    "name": "ipython",
    "version": 3
   },
   "file_extension": ".py",
   "mimetype": "text/x-python",
   "name": "python",
   "nbconvert_exporter": "python",
   "pygments_lexer": "ipython3",
   "version": "3.12.1"
  }
 },
 "nbformat": 4,
 "nbformat_minor": 5
}
