{
 "cells": [
  {
   "cell_type": "code",
   "execution_count": 19,
   "id": "71d21bf0",
   "metadata": {},
   "outputs": [
    {
     "name": "stdout",
     "output_type": "stream",
     "text": [
      "5\n"
     ]
    }
   ],
   "source": [
    "x = 5\n",
    "print(x)"
   ]
  },
  {
   "cell_type": "code",
   "execution_count": 20,
   "id": "36cd0a09",
   "metadata": {},
   "outputs": [
    {
     "name": "stdout",
     "output_type": "stream",
     "text": [
      "Hello World\n",
      "Hello World\n",
      "Hello World\n",
      "Hello World\n",
      "Hello World\n",
      "Hello World\n",
      "Hello World\n",
      "Hello World\n",
      "Hello World\n",
      "Hello World\n"
     ]
    }
   ],
   "source": [
    "for i in range(10):\n",
    "    print('Hello World')"
   ]
  },
  {
   "cell_type": "code",
   "execution_count": 21,
   "id": "3e90fcc4",
   "metadata": {},
   "outputs": [],
   "source": [
    "s = 'Hello'"
   ]
  },
  {
   "cell_type": "code",
   "execution_count": 22,
   "id": "7e9e51fd",
   "metadata": {},
   "outputs": [],
   "source": [
    "t = 'world'"
   ]
  },
  {
   "cell_type": "code",
   "execution_count": 23,
   "id": "d9f79ed8",
   "metadata": {},
   "outputs": [
    {
     "name": "stdout",
     "output_type": "stream",
     "text": [
      "Hello world\n"
     ]
    }
   ],
   "source": [
    "print(s, t)"
   ]
  },
  {
   "cell_type": "code",
   "execution_count": 24,
   "id": "dd18218f",
   "metadata": {},
   "outputs": [
    {
     "name": "stdout",
     "output_type": "stream",
     "text": [
      "Hello world\n",
      "Hello world\n",
      "Hello world\n",
      "Hello world\n",
      "Hello world\n",
      "Hello world\n",
      "Hello world\n",
      "Hello world\n",
      "Hello world\n",
      "Hello world\n"
     ]
    }
   ],
   "source": [
    "for i in range(10):\n",
    "    print(s, t)"
   ]
  },
  {
   "cell_type": "code",
   "execution_count": 25,
   "id": "bbe828da",
   "metadata": {},
   "outputs": [
    {
     "name": "stdout",
     "output_type": "stream",
     "text": [
      "4\n"
     ]
    }
   ],
   "source": [
    "x = 4\n",
    "print(x)"
   ]
  },
  {
   "cell_type": "code",
   "execution_count": 26,
   "id": "8bd8d15f",
   "metadata": {},
   "outputs": [
    {
     "name": "stdout",
     "output_type": "stream",
     "text": [
      "5\n"
     ]
    }
   ],
   "source": [
    "x = 5\n",
    "print(x)"
   ]
  },
  {
   "cell_type": "markdown",
   "id": "7a0dd3ac",
   "metadata": {},
   "source": [
    "# 1. Basic text #\n",
    "## 1. Basic text ##\n",
    "### 1. Basic text ###\n",
    "**(A)**\n",
    "\n",
    "So\n",
    "    Hello\\\n",
    "    World\n",
    "\n",
    "and\n",
    "\n",
    "        Hello <- two indents\n",
    "        World\n",
    "\n",
    "this is a <br> in the middle of the line\n",
    "\n",
    "$$\\pi^2  = 3.1415^2$$\n",
    "\n",
    "*italic*\\\n",
    "**boldface**\\\n",
    "***Italics and Boldface (probably too much!)***"
   ]
  },
  {
   "cell_type": "code",
   "execution_count": 27,
   "id": "77ad3404",
   "metadata": {},
   "outputs": [
    {
     "name": "stdout",
     "output_type": "stream",
     "text": [
      "this is cool!\n"
     ]
    }
   ],
   "source": [
    "print('this is cool!')"
   ]
  },
  {
   "cell_type": "code",
   "execution_count": null,
   "id": "06d4ce94",
   "metadata": {},
   "outputs": [],
   "source": []
  }
 ],
 "metadata": {
  "kernelspec": {
   "display_name": "Python 3",
   "language": "python",
   "name": "python3"
  },
  "language_info": {
   "codemirror_mode": {
    "name": "ipython",
    "version": 3
   },
   "file_extension": ".py",
   "mimetype": "text/x-python",
   "name": "python",
   "nbconvert_exporter": "python",
   "pygments_lexer": "ipython3",
   "version": "3.12.1"
  }
 },
 "nbformat": 4,
 "nbformat_minor": 5
}
