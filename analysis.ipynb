{
 "cells": [
  {
   "cell_type": "markdown",
   "id": "888a324f",
   "metadata": {},
   "source": [
    "## Analysis ##"
   ]
  },
  {
   "cell_type": "markdown",
   "id": "f81abf01",
   "metadata": {},
   "source": [
    "##Analysis##"
   ]
  },
  {
   "cell_type": "markdown",
   "id": "7fb34b9d",
   "metadata": {},
   "source": [
    " ## data set from Kaggle ##"
   ]
  },
  {
   "cell_type": "code",
   "execution_count": 6,
   "id": "e163dc14",
   "metadata": {},
   "outputs": [
    {
     "name": "stdout",
     "output_type": "stream",
     "text": [
      "Path to dataset files: /home/codespace/.cache/kagglehub/datasets/yashdevladdha/uber-ride-analytics-dashboard/versions/2\n"
     ]
    }
   ],
   "source": [
    "import kagglehub\n",
    "\n",
    "#dowload latest version\n",
    "path = kagglehub.dataset_download(\"yashdevladdha/uber-ride-analytics-dashboard\")\n",
    "print('Path to dataset files:', path)"
   ]
  },
  {
   "cell_type": "code",
   "execution_count": 7,
   "id": "2432a8d6",
   "metadata": {},
   "outputs": [],
   "source": [
    "import pandas as pd"
   ]
  },
  {
   "cell_type": "code",
   "execution_count": 8,
   "id": "501ed1ed",
   "metadata": {},
   "outputs": [],
   "source": [
    "df = pd.read_csv"
   ]
  }
 ],
 "metadata": {
  "kernelspec": {
   "display_name": "Python 3",
   "language": "python",
   "name": "python3"
  },
  "language_info": {
   "codemirror_mode": {
    "name": "ipython",
    "version": 3
   },
   "file_extension": ".py",
   "mimetype": "text/x-python",
   "name": "python",
   "nbconvert_exporter": "python",
   "pygments_lexer": "ipython3",
   "version": "3.12.1"
  }
 },
 "nbformat": 4,
 "nbformat_minor": 5
}
